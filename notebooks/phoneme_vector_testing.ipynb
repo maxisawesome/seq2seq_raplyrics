{
 "cells": [
  {
   "cell_type": "code",
   "execution_count": 2,
   "metadata": {},
   "outputs": [],
   "source": [
    "%matplotlib inline\n",
    "import pandas as pd\n",
    "import matplotlib.pyplot as plt\n",
    "import numpy as np\n",
    "from adjustText import adjust_text\n",
    "from numpy import dot\n",
    "from numpy.linalg import norm\n",
    "\n",
    "# cosine similarity\n",
    "def cosine(v1, v2):\n",
    "    if norm(v1) > 0 and norm(v2) > 0:\n",
    "        return dot(v1, v2) / (norm(v1) * norm(v2))\n",
    "    else:\n",
    "        return 0.0"
   ]
  },
  {
   "cell_type": "code",
   "execution_count": 3,
   "metadata": {},
   "outputs": [],
   "source": [
    "space = dict()\n",
    "for line in open(\"../data/cmudict-0.7b-simvecs\", encoding=\"latin1\"):\n",
    "    line = line.strip()\n",
    "    word, vec_raw = line.split(\"  \")\n",
    "    word = word.lower()\n",
    "    space[word] = np.array([float(x) for x in vec_raw.split()])"
   ]
  },
  {
   "cell_type": "code",
   "execution_count": 4,
   "metadata": {},
   "outputs": [
    {
     "name": "stdout",
     "output_type": "stream",
     "text": [
      "34633 49079\n"
     ]
    }
   ],
   "source": [
    "bad_words = []\n",
    "bad_words_counter = 0\n",
    "good_words_counter = 0\n",
    "for line in open('../data/words_in_lyrics'):\n",
    "    try:\n",
    "        space[line.strip()]\n",
    "        good_words_counter += 1\n",
    "    except:\n",
    "        bad_words.append(line.strip())\n",
    "        bad_words_counter += 1\n",
    "\n",
    "print(good_words_counter, bad_words_counter)"
   ]
  },
  {
   "cell_type": "code",
   "execution_count": 6,
   "metadata": {},
   "outputs": [
    {
     "data": {
      "text/plain": [
       "array([-0.137727,  1.869253, -1.653451,  0.857475,  0.502468,  1.015182,\n",
       "        0.678919,  1.352616, -0.34415 ,  0.301723,  0.277187, -0.647402,\n",
       "       -0.621548,  0.157871,  0.041884,  0.989497, -1.054673,  2.008574,\n",
       "       -0.035019, -1.330726, -0.151844,  0.154385,  0.04397 ,  0.55477 ,\n",
       "        0.072232,  1.489362,  1.530399,  1.547397, -0.763792,  0.404069,\n",
       "        2.847793,  2.352446, -1.572601,  2.723548,  4.372543, -0.305985,\n",
       "        1.890833, -0.516024, -0.015275,  2.658418, -0.381408,  1.088339,\n",
       "       -0.457543, -0.263356, -0.104534, -1.844805, -1.829738,  1.295157,\n",
       "        0.204986,  1.336561])"
      ]
     },
     "execution_count": 6,
     "metadata": {},
     "output_type": "execute_result"
    }
   ],
   "source": [
    "space[\"you've\"]"
   ]
  },
  {
   "cell_type": "code",
   "execution_count": 9,
   "metadata": {},
   "outputs": [
    {
     "name": "stdout",
     "output_type": "stream",
     "text": [
      "DEATH\n",
      "\n",
      "D EH TH\n",
      "\n"
     ]
    }
   ],
   "source": [
    "words = open(\"../data/words_in_lyrics\").readlines()\n",
    "phonemes = open(\"../data/pho_dict\").readlines()\n",
    "for i, word in enumerate(words):\n",
    "    cur_word_phonemes = phonemes[i]\n",
    "    print(word.upper())\n",
    "    print(cur_word_phonemes.upper())\n",
    "    break"
   ]
  },
  {
   "cell_type": "code",
   "execution_count": null,
   "metadata": {},
   "outputs": [],
   "source": []
  }
 ],
 "metadata": {
  "kernelspec": {
   "display_name": "Python 3",
   "language": "python",
   "name": "python3"
  },
  "language_info": {
   "codemirror_mode": {
    "name": "ipython",
    "version": 3
   },
   "file_extension": ".py",
   "mimetype": "text/x-python",
   "name": "python",
   "nbconvert_exporter": "python",
   "pygments_lexer": "ipython3",
   "version": "3.6.5"
  }
 },
 "nbformat": 4,
 "nbformat_minor": 2
}
